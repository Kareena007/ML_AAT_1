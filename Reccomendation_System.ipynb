{
  "nbformat": 4,
  "nbformat_minor": 0,
  "metadata": {
    "colab": {
      "provenance": []
    },
    "kernelspec": {
      "name": "python3",
      "display_name": "Python 3"
    },
    "language_info": {
      "name": "python"
    }
  },
  "cells": [
    {
      "cell_type": "code",
      "source": [
        "import pandas as pd\n",
        "from mlxtend.frequent_patterns import apriori, association_rules\n",
        "\n",
        "# Sample data\n",
        "data = pd.read_csv(\"/content/transactions.csv\")\n",
        "\n",
        "# Creating a list of all items\n",
        "items = set(item for sublist in data['Purchased Items'] for item in sublist)\n",
        "\n",
        "# Creating a one-hot encoding for the items\n",
        "one_hot = pd.DataFrame([{item: (item in items) for item in items} for items in df['Purchased Items']])\n",
        "\n",
        "# Replace missing values with False and ensure correct encoding\n",
        "one_hot = one_hot.fillna(False).astype(bool)\n",
        "\n",
        "# Applying the Apriori algorithm\n",
        "frequent_itemsets = apriori(one_hot, min_support=0.5, use_colnames=True)\n",
        "\n",
        "# Generating association rules\n",
        "rules = association_rules(frequent_itemsets, metric=\"lift\", min_threshold=1.0)\n",
        "\n",
        "# User X data\n",
        "user_X = ['Mousepad', 'Headset']\n",
        "\n",
        "# Find recommendations for user_X\n",
        "recommendations = []\n",
        "\n",
        "for _, rule in rules.iterrows():\n",
        "    if set(user_X).issubset(rule['antecedents']):\n",
        "        recommendations.append((rule['consequents'], rule['confidence'], rule['lift']))\n",
        "\n",
        "# Convert to DataFrame for readability\n",
        "recommendation_df = pd.DataFrame(recommendations, columns=['Recommended Items', 'Confidence', 'Lift'])\n",
        "\n",
        "print(\"---\")\n",
        "print(recommendation_df)\n",
        "print(\"---\")"
      ],
      "metadata": {
        "id": "HzcRwPwyR-kG"
      },
      "execution_count": null,
      "outputs": []
    }
  ]
}