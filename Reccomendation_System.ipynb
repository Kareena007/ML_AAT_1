{
  "nbformat": 4,
  "nbformat_minor": 0,
  "metadata": {
    "colab": {
      "provenance": []
    },
    "kernelspec": {
      "name": "python3",
      "display_name": "Python 3"
    },
    "language_info": {
      "name": "python"
    }
  },
  "cells": [
    {
      "cell_type": "code",
      "execution_count": 19,
      "metadata": {
        "colab": {
          "base_uri": "https://localhost:8080/",
          "height": 420
        },
        "id": "2j6ZgwjUHk2x",
        "outputId": "f3ad4a7d-690a-4926-d321-d5cb1d8a0f0d"
      },
      "outputs": [
        {
          "output_type": "stream",
          "name": "stderr",
          "text": [
            "/usr/local/lib/python3.10/dist-packages/ipykernel/ipkernel.py:283: DeprecationWarning: `should_run_async` will not call `transform_cell` automatically in the future. Please pass the result to `transformed_cell` argument and any exception that happen during thetransform in `preprocessing_exc_tuple` in IPython 7.17 and above.\n",
            "  and should_run_async(code)\n"
          ]
        },
        {
          "output_type": "error",
          "ename": "ValueError",
          "evalue": "The input DataFrame `df` containing the frequent itemsets is empty.",
          "traceback": [
            "\u001b[0;31m---------------------------------------------------------------------------\u001b[0m",
            "\u001b[0;31mValueError\u001b[0m                                Traceback (most recent call last)",
            "\u001b[0;32m<ipython-input-19-c8d327dcfe34>\u001b[0m in \u001b[0;36m<cell line: 21>\u001b[0;34m()\u001b[0m\n\u001b[1;32m     19\u001b[0m \u001b[0;34m\u001b[0m\u001b[0m\n\u001b[1;32m     20\u001b[0m \u001b[0;31m# Generate association rules\u001b[0m\u001b[0;34m\u001b[0m\u001b[0;34m\u001b[0m\u001b[0m\n\u001b[0;32m---> 21\u001b[0;31m \u001b[0mrules\u001b[0m \u001b[0;34m=\u001b[0m \u001b[0massociation_rules\u001b[0m\u001b[0;34m(\u001b[0m\u001b[0mfrequent_itemsets\u001b[0m\u001b[0;34m,\u001b[0m \u001b[0mmetric\u001b[0m\u001b[0;34m=\u001b[0m\u001b[0;34m\"lift\"\u001b[0m\u001b[0;34m,\u001b[0m \u001b[0mmin_threshold\u001b[0m\u001b[0;34m=\u001b[0m\u001b[0;36m1\u001b[0m\u001b[0;34m)\u001b[0m\u001b[0;34m\u001b[0m\u001b[0;34m\u001b[0m\u001b[0m\n\u001b[0m\u001b[1;32m     22\u001b[0m \u001b[0;34m\u001b[0m\u001b[0m\n\u001b[1;32m     23\u001b[0m \u001b[0;31m# Recommendation function\u001b[0m\u001b[0;34m\u001b[0m\u001b[0;34m\u001b[0m\u001b[0m\n",
            "\u001b[0;32m/usr/local/lib/python3.10/dist-packages/mlxtend/frequent_patterns/association_rules.py\u001b[0m in \u001b[0;36massociation_rules\u001b[0;34m(df, metric, min_threshold, support_only)\u001b[0m\n\u001b[1;32m     81\u001b[0m     \"\"\"\n\u001b[1;32m     82\u001b[0m     \u001b[0;32mif\u001b[0m \u001b[0;32mnot\u001b[0m \u001b[0mdf\u001b[0m\u001b[0;34m.\u001b[0m\u001b[0mshape\u001b[0m\u001b[0;34m[\u001b[0m\u001b[0;36m0\u001b[0m\u001b[0;34m]\u001b[0m\u001b[0;34m:\u001b[0m\u001b[0;34m\u001b[0m\u001b[0;34m\u001b[0m\u001b[0m\n\u001b[0;32m---> 83\u001b[0;31m         raise ValueError(\n\u001b[0m\u001b[1;32m     84\u001b[0m             \u001b[0;34m\"The input DataFrame `df` containing \"\u001b[0m \u001b[0;34m\"the frequent itemsets is empty.\"\u001b[0m\u001b[0;34m\u001b[0m\u001b[0;34m\u001b[0m\u001b[0m\n\u001b[1;32m     85\u001b[0m         )\n",
            "\u001b[0;31mValueError\u001b[0m: The input DataFrame `df` containing the frequent itemsets is empty."
          ]
        }
      ],
      "source": [
        "import pandas as pd\n",
        "from mlxtend.preprocessing import TransactionEncoder\n",
        "from mlxtend.frequent_patterns import apriori, association_rules\n",
        "import ast\n",
        "\n",
        "# Read the CSV file\n",
        "df = pd.read_csv('/content/transactions.csv')\n",
        "\n",
        "# Convert the 'Items' column from string representation of list to actual list\n",
        "df['Items'] = df['Items'].apply(ast.literal_eval)\n",
        "\n",
        "# Prepare the data for the apriori algorithm\n",
        "te = TransactionEncoder()\n",
        "te_ary = te.fit(df['Items']).transform(df['Items'])\n",
        "df_encoded = pd.DataFrame(te_ary, columns=te.columns_)\n",
        "\n",
        "# Apply the Apriori algorithm\n",
        "frequent_itemsets = apriori(df_encoded, min_support=0.6, use_colnames=True)\n",
        "\n",
        "# Generate association rules\n",
        "rules = association_rules(frequent_itemsets, metric=\"lift\", min_threshold=1)\n",
        "\n",
        "# Recommendation function\n",
        "def recommend_items(owned_items):\n",
        "    # Filter rules that apply to the owned items\n",
        "    matching_rules = rules[rules['antecedents'].apply(lambda x: set(owned_items).issubset(x))]\n",
        "    # Extract the consequents of the matching rules\n",
        "    recommendations = set()\n",
        "    for idx, row in matching_rules.iterrows():\n",
        "        recommendations = recommendations.union(row['consequents'])\n",
        "\n",
        "    # Remove items that are already owned\n",
        "    recommendations = recommendations.difference(owned_items)\n",
        "\n",
        "    return list(recommendations)\n",
        "\n",
        "# Example usage\n",
        "owned_items = ['Laptop', 'Mouse']\n",
        "print(recommend_items(owned_items))"
      ]
    }
  ]
}